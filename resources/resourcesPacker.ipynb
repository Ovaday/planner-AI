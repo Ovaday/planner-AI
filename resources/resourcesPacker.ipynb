{
 "cells": [
  {
   "cell_type": "code",
   "execution_count": 56,
   "metadata": {},
   "outputs": [],
   "source": [
    "# Imports and functions\n",
    "from helpers.tokenHelpers import get_token\n",
    "from os import listdir\n",
    "from os.path import isfile, join\n",
    "from cryptography.fernet import Fernet\n",
    "from builtins import open, bytes\n",
    "import codecs\n",
    "\n",
    "def listFiles(resourcesPath, is_encrypt):\n",
    "    if is_encrypt:\n",
    "        # Return only files with the \".enc\" extension\n",
    "        return [f for f in listdir(resourcesPath) if isfile(join(resourcesPath, f)) and f.endswith(\".enc\") and f != 'resourcesPacker.ipynb']\n",
    "    else:\n",
    "        # Return all files except 'resourcesPacker.ipynb'\n",
    "        return [f for f in listdir(resourcesPath) if isfile(join(resourcesPath, f)) and f != 'resourcesPacker.ipynb']\n",
    "\n",
    "def handleExtension(filename, is_encrypt):\n",
    "    if not is_encrypt:\n",
    "        # Remove the \".enc\" extension from the filename\n",
    "        if filename.endswith(\".enc\"):\n",
    "            filename = filename[:-4]\n",
    "    else:\n",
    "        # Append the \".enc\" extension to the filename\n",
    "        if not filename.endswith(\".enc\"):\n",
    "            filename += \".enc\"\n",
    "    return filename\n",
    "    \n",
    "def encrypt(filename_origin, filename_destination, key):\n",
    "    f = Fernet(key)\n",
    "    with open(filename_origin, \"rb\") as file:\n",
    "        # read all file data\n",
    "        file_data = file.read()\n",
    "    # encrypt data\n",
    "    encrypted_data = f.encrypt(file_data)\n",
    "    filename_destination = handleExtension(filename_destination, True)\n",
    "    # write the encrypted file\n",
    "    with open(filename_destination, \"wb\") as file:\n",
    "        file.write(encrypted_data)\n",
    "\n",
    "def decrypt(filename_origin, filename_destination, key):\n",
    "    f = Fernet(key)\n",
    "    with open(filename_origin, \"rb\") as file:\n",
    "        # read the encrypted data\n",
    "        encrypted_data = file.read()\n",
    "    # decrypt data\n",
    "    decrypted_data = f.decrypt(encrypted_data)\n",
    "    filename_destination = handleExtension(filename_destination, False)\n",
    "    # write the original file\n",
    "    with open(filename_destination, \"wb\") as file:\n",
    "        file.write(decrypted_data)\n",
    "   \n",
    "        \n",
    "basedir_extracted = \"extracted/\"\n",
    "basedir_packed = \"../resources/\""
   ]
  },
  {
   "cell_type": "code",
   "execution_count": 57,
   "metadata": {
    "pycharm": {
     "name": "#%%\n"
    }
   },
   "outputs": [
    {
     "name": "stdout",
     "output_type": "stream",
     "text": [
      "['data.csv.enc']\n"
     ]
    }
   ],
   "source": [
    "# Unpack resources using the key\n",
    "files = listFiles(basedir_packed, True)\n",
    "print(files)\n",
    "for filename in files:\n",
    "    decrypt(filename, basedir_extracted + filename, key)"
   ]
  },
  {
   "cell_type": "code",
   "execution_count": 49,
   "metadata": {
    "pycharm": {
     "name": "#%%\n"
    }
   },
   "outputs": [
    {
     "name": "stdout",
     "output_type": "stream",
     "text": [
      "['data.csv']\n"
     ]
    }
   ],
   "source": [
    "# Pack resources back\n",
    "files = listFiles(basedir_extracted, False)\n",
    "print(files)\n",
    "for filename in files:\n",
    "    encrypt(basedir_extracted + filename, basedir_packed + filename, key)"
   ]
  },
  {
   "cell_type": "code",
   "execution_count": null,
   "metadata": {},
   "outputs": [],
   "source": []
  }
 ],
 "metadata": {
  "kernelspec": {
   "display_name": "Python 3 (ipykernel)",
   "language": "python",
   "name": "python3"
  },
  "language_info": {
   "codemirror_mode": {
    "name": "ipython",
    "version": 3
   },
   "file_extension": ".py",
   "mimetype": "text/x-python",
   "name": "python",
   "nbconvert_exporter": "python",
   "pygments_lexer": "ipython3",
   "version": "3.9.0"
  }
 },
 "nbformat": 4,
 "nbformat_minor": 1
}