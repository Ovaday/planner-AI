{
 "cells": [
  {
   "cell_type": "code",
   "execution_count": 12,
   "metadata": {
    "scrolled": true
   },
   "outputs": [
    {
     "name": "stdout",
     "output_type": "stream",
     "text": [
      "Accuracy: 0.8407643312101911\n"
     ]
    }
   ],
   "source": [
    "\n",
    "import pandas as pd\n",
    "from sklearn.feature_extraction.text import TfidfVectorizer\n",
    "from sklearn import svm\n",
    "\n",
    "# загружаем данные\n",
    "data = pd.read_csv(\"../test/data.csv\")\n",
    "\n",
    "# разбиваем данные на тренировочный и тестовый наборы\n",
    "train_data = data.sample(frac=0.8, random_state=42)\n",
    "test_data = data.drop(train_data.index)\n",
    "\n",
    "# преобразуем текст сообщений в векторы признаков\n",
    "vectorizer = TfidfVectorizer()\n",
    "X_train = vectorizer.fit_transform(train_data['message'])\n",
    "X_test = vectorizer.transform(test_data['message'])\n",
    "\n",
    "# задаем целевую переменную\n",
    "y_train = train_data['class']\n",
    "y_test = test_data['class']\n",
    "\n",
    "# обучаем модель SVM\n",
    "clf = svm.SVC(kernel='linear')\n",
    "clf.fit(X_train, y_train)\n",
    "\n",
    "# оцениваем точность модели\n",
    "accuracy = clf.score(X_test, y_test)\n",
    "print(\"Accuracy:\", accuracy)\n"
   ]
  },
  {
   "cell_type": "code",
   "execution_count": 15,
   "metadata": {},
   "outputs": [
    {
     "data": {
      "text/plain": [
       "array(['reminder', 'appointment', 'chat'], dtype=object)"
      ]
     },
     "execution_count": 15,
     "metadata": {},
     "output_type": "execute_result"
    }
   ],
   "source": [
    "mine_data = {'message': ['Напомни мне..', 'Сохрани для меня картинку', 'Что такое небо'],\n",
    "        'class': [1, 2, 3]\n",
    "        }\n",
    "\n",
    "mine_df = pd.DataFrame(mine_data)\n",
    "mine_test = vectorizer.transform(mine_df['message'])\n",
    "clf.predict(mine_test)\n"
   ]
  },
  {
   "cell_type": "code",
   "execution_count": null,
   "metadata": {},
   "outputs": [],
   "source": []
  }
 ],
 "metadata": {
  "kernelspec": {
   "display_name": "Python 3 (ipykernel)",
   "language": "python",
   "name": "python3"
  },
  "language_info": {
   "codemirror_mode": {
    "name": "ipython",
    "version": 3
   },
   "file_extension": ".py",
   "mimetype": "text/x-python",
   "name": "python",
   "nbconvert_exporter": "python",
   "pygments_lexer": "ipython3",
   "version": "3.9.0"
  }
 },
 "nbformat": 4,
 "nbformat_minor": 1
}
