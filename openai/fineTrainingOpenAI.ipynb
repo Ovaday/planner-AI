{
 "cells": [
  {
   "cell_type": "code",
   "execution_count": 7,
   "metadata": {
    "collapsed": true
   },
   "outputs": [],
   "source": [
    "import pandas as pd\n",
    "import openai\n",
    "\n",
    "columns=[\"prompt\",\"completion\"]\n",
    "data = pd.read_csv(\"../resources/extracted/data.csv\", sep=\",\", header=None, names=columns)"
   ]
  },
  {
   "cell_type": "code",
   "execution_count": 8,
   "outputs": [],
   "source": [
    "for i, row in data.iterrows():\n",
    "    prompt_val = row['prompt'] + '\\n\\n###\\n\\n'\n",
    "    completion_val = ' ' + row['completion']\n",
    "    data.at[i,'prompt'] = prompt_val\n",
    "    data.at[i,'completion'] = completion_val"
   ],
   "metadata": {
    "collapsed": false,
    "pycharm": {
     "name": "#%%\n"
    }
   }
  },
  {
   "cell_type": "code",
   "execution_count": 9,
   "outputs": [
    {
     "data": {
      "text/plain": "                                                prompt completion\n0     Напомнить мне позвонить Джону в 15:30\\n\\n###\\n\\n   reminder\n1    Добавить встречу с клиентом на завтра в 10:00\\...   calender\n2    Сохранить список продуктов для покупки\\n\\n###\\n\\n       save\n3               Помощь в настройке аккаунта\\n\\n###\\n\\n       chat\n4                           Встреча в 15:00\\n\\n###\\n\\n   calender\n..                                                 ...        ...\n976  Я хочу научиться прыгать с парашютом в течение...       goal\n977  Я хочу пройти 30-дневный фитнес-зачет и в конц...       goal\n978  Я начну ежедневную практику благодарности и бу...       goal\n979  Я собираюсь основать свою собственную благотво...       goal\n980  Я хочу научиться делать сальто назад на батуте...       goal\n\n[981 rows x 2 columns]",
      "text/html": "<div>\n<style scoped>\n    .dataframe tbody tr th:only-of-type {\n        vertical-align: middle;\n    }\n\n    .dataframe tbody tr th {\n        vertical-align: top;\n    }\n\n    .dataframe thead th {\n        text-align: right;\n    }\n</style>\n<table border=\"1\" class=\"dataframe\">\n  <thead>\n    <tr style=\"text-align: right;\">\n      <th></th>\n      <th>prompt</th>\n      <th>completion</th>\n    </tr>\n  </thead>\n  <tbody>\n    <tr>\n      <th>0</th>\n      <td>Напомнить мне позвонить Джону в 15:30\\n\\n###\\n\\n</td>\n      <td>reminder</td>\n    </tr>\n    <tr>\n      <th>1</th>\n      <td>Добавить встречу с клиентом на завтра в 10:00\\...</td>\n      <td>calender</td>\n    </tr>\n    <tr>\n      <th>2</th>\n      <td>Сохранить список продуктов для покупки\\n\\n###\\n\\n</td>\n      <td>save</td>\n    </tr>\n    <tr>\n      <th>3</th>\n      <td>Помощь в настройке аккаунта\\n\\n###\\n\\n</td>\n      <td>chat</td>\n    </tr>\n    <tr>\n      <th>4</th>\n      <td>Встреча в 15:00\\n\\n###\\n\\n</td>\n      <td>calender</td>\n    </tr>\n    <tr>\n      <th>...</th>\n      <td>...</td>\n      <td>...</td>\n    </tr>\n    <tr>\n      <th>976</th>\n      <td>Я хочу научиться прыгать с парашютом в течение...</td>\n      <td>goal</td>\n    </tr>\n    <tr>\n      <th>977</th>\n      <td>Я хочу пройти 30-дневный фитнес-зачет и в конц...</td>\n      <td>goal</td>\n    </tr>\n    <tr>\n      <th>978</th>\n      <td>Я начну ежедневную практику благодарности и бу...</td>\n      <td>goal</td>\n    </tr>\n    <tr>\n      <th>979</th>\n      <td>Я собираюсь основать свою собственную благотво...</td>\n      <td>goal</td>\n    </tr>\n    <tr>\n      <th>980</th>\n      <td>Я хочу научиться делать сальто назад на батуте...</td>\n      <td>goal</td>\n    </tr>\n  </tbody>\n</table>\n<p>981 rows × 2 columns</p>\n</div>"
     },
     "execution_count": 9,
     "metadata": {},
     "output_type": "execute_result"
    }
   ],
   "source": [
    "data"
   ],
   "metadata": {
    "collapsed": false,
    "pycharm": {
     "name": "#%%\n"
    }
   }
  },
  {
   "cell_type": "code",
   "execution_count": 10,
   "outputs": [
    {
     "data": {
      "text/plain": " reminder       305\n chat           245\n goal           168\n save           101\n intention       56\n appointment     51\n event           45\n calender        10\nName: completion, dtype: int64"
     },
     "execution_count": 10,
     "metadata": {},
     "output_type": "execute_result"
    }
   ],
   "source": [
    "data['completion'].value_counts()"
   ],
   "metadata": {
    "collapsed": false,
    "pycharm": {
     "name": "#%%\n"
    }
   }
  },
  {
   "cell_type": "code",
   "execution_count": 11,
   "outputs": [],
   "source": [
    "data.to_json(\"../resources/extracted/data.jsonl\", orient='records', lines=True)"
   ],
   "metadata": {
    "collapsed": false,
    "pycharm": {
     "name": "#%%\n"
    }
   }
  },
  {
   "cell_type": "code",
   "execution_count": 12,
   "outputs": [
    {
     "name": "stdout",
     "output_type": "stream",
     "text": [
      "Analyzing...\n",
      "\n",
      "- Your file contains 981 prompt-completion pairs\n",
      "- Based on your data it seems like you're trying to fine-tune a model for classification\n",
      "- For classification, we recommend you try one of the faster and cheaper models, such as `ada`\n",
      "- For classification, you can estimate the expected model performance by keeping a held out dataset, which is not used for training\n",
      "- All prompts end with suffix `\\n\\n###\\n\\n`\n",
      "\n",
      "No remediations found.\n",
      "- [Recommended] Would you like to split into training and validation set? [Y/n]: Y\n",
      "\n",
      "\n",
      "Your data will be written to a new JSONL file. Proceed [Y/n]: Y\n",
      "\n",
      "Wrote modified files to `../resources/extracted/data_prepared_train.jsonl` and `../resources/extracted/data_prepared_valid.jsonl`\n",
      "Feel free to take a look!\n",
      "\n",
      "Now use that file when fine-tuning:\n",
      "> openai api fine_tunes.create -t \"../resources/extracted/data_prepared_train.jsonl\" -v \"../resources/extracted/data_prepared_valid.jsonl\" --compute_classification_metrics --classification_n_classes 8\n",
      "\n",
      "After you’ve fine-tuned a model, remember that your prompt has to end with the indicator string `\\n\\n###\\n\\n` for the model to start generating completions, rather than continuing with the prompt.\n",
      "Once your model starts training, it'll approximately take 25.88 minutes to train a `curie` model, and less for `ada` and `babbage`. Queue will approximately take half an hour per job ahead of you.\n"
     ]
    }
   ],
   "source": [
    "!openai tools fine_tunes.prepare_data -f \"../resources/extracted/data.jsonl\" -q"
   ],
   "metadata": {
    "collapsed": false,
    "pycharm": {
     "name": "#%%\n"
    }
   }
  },
  {
   "cell_type": "code",
   "execution_count": 23,
   "outputs": [
    {
     "name": "stderr",
     "output_type": "stream",
     "text": [
      "'openai.api_key' is not recognized as an internal or external command,\n",
      "operable program or batch file.\n"
     ]
    }
   ],
   "source": [
    "!openai.api_key=''"
   ],
   "metadata": {
    "collapsed": false,
    "pycharm": {
     "name": "#%%\n"
    }
   }
  },
  {
   "cell_type": "code",
   "execution_count": 54,
   "outputs": [
    {
     "name": "stdout",
     "output_type": "stream",
     "text": [
      "^C\n"
     ]
    }
   ],
   "source": [
    "!openai -k '' api fine_tunes.create -t \"../resources/extracted/data_prepared_train.jsonl\" -v \"../resources/extracted/data_prepared_valid.jsonl\" --compute_classification_metrics --classification_n_classes 8 -m babbage"
   ],
   "metadata": {
    "collapsed": false,
    "pycharm": {
     "name": "#%%\n"
    }
   }
  },
  {
   "cell_type": "code",
   "execution_count": 55,
   "outputs": [
    {
     "name": "stdout",
     "output_type": "stream",
     "text": [
      "[2023-04-09 10:47:13] Created fine-tune: ft-R3d2Ka55mj8eVcov3nbkx0iG\n",
      "[2023-04-09 10:47:22] Fine-tune costs $0.07\n",
      "[2023-04-09 10:47:23] Fine-tune enqueued. Queue number: 0\n",
      "[2023-04-09 10:47:26] Fine-tune started\n",
      "[2023-04-09 10:49:58] Completed epoch 1/4\n",
      "\n",
      "Stream interrupted (client disconnected).\n",
      "To resume the stream, run:\n",
      "\n",
      "  openai api fine_tunes.follow -i ft-R3d2Ka55mj8eVcov3nbkx0iG\n",
      "\n"
     ]
    }
   ],
   "source": [
    "!openai -k '' api fine_tunes.follow -i ft-R3d2Ka55mj8eVcov3nbkx0iG"
   ],
   "metadata": {
    "collapsed": false,
    "pycharm": {
     "name": "#%%\n"
    }
   }
  },
  {
   "cell_type": "code",
   "execution_count": 31,
   "outputs": [
    {
     "name": "stdout",
     "output_type": "stream",
     "text": [
      "[2023-04-09 01:52:30] Created fine-tune: ft-Aq8lvY4xZOCKW1jGZ4yTJo6t\n",
      "[2023-04-09 01:52:45] Fine-tune costs $0.05\n",
      "[2023-04-09 01:52:45] Fine-tune enqueued. Queue number: 0\n",
      "\n",
      "Stream interrupted (client disconnected).\n",
      "To resume the stream, run:\n",
      "\n",
      "  openai api fine_tunes.follow -i ft-Aq8lvY4xZOCKW1jGZ4yTJo6t\n",
      "\n"
     ]
    }
   ],
   "source": [
    "!openai -k '' api fine_tunes.follow -i ft-Aq8lvY4xZOCKW1jGZ4yTJo6t"
   ],
   "metadata": {
    "collapsed": false,
    "pycharm": {
     "name": "#%%\n"
    }
   }
  },
  {
   "cell_type": "code",
   "execution_count": 32,
   "outputs": [
    {
     "name": "stdout",
     "output_type": "stream",
     "text": [
      "{\n",
      "  \"created_at\": 1680997950,\n",
      "  \"events\": [\n",
      "    {\n",
      "      \"created_at\": 1680997950,\n",
      "      \"level\": \"info\",\n",
      "      \"message\": \"Created fine-tune: ft-Aq8lvY4xZOCKW1jGZ4yTJo6t\",\n",
      "      \"object\": \"fine-tune-event\"\n",
      "    },\n",
      "    {\n",
      "      \"created_at\": 1680997965,\n",
      "      \"level\": \"info\",\n",
      "      \"message\": \"Fine-tune costs $0.05\",\n",
      "      \"object\": \"fine-tune-event\"\n",
      "    },\n",
      "    {\n",
      "      \"created_at\": 1680997965,\n",
      "      \"level\": \"info\",\n",
      "      \"message\": \"Fine-tune enqueued. Queue number: 0\",\n",
      "      \"object\": \"fine-tune-event\"\n",
      "    }\n",
      "  ],\n",
      "  \"fine_tuned_model\": null,\n",
      "  \"hyperparams\": {\n",
      "    \"batch_size\": 1,\n",
      "    \"classification_n_classes\": 8,\n",
      "    \"compute_classification_metrics\": true,\n",
      "    \"learning_rate_multiplier\": 0.1,\n",
      "    \"n_epochs\": 4,\n",
      "    \"prompt_loss_weight\": 0.01\n",
      "  },\n",
      "  \"id\": \"ft-Aq8lvY4xZOCKW1jGZ4yTJo6t\",\n",
      "  \"model\": \"ada\",\n",
      "  \"object\": \"fine-tune\",\n",
      "  \"organization_id\": \"org-pfcYbIXBEJy2mJ7JaOPA27jG\",\n",
      "  \"result_files\": [],\n",
      "  \"status\": \"pending\",\n",
      "  \"training_files\": [\n",
      "    {\n",
      "      \"bytes\": 93326,\n",
      "      \"created_at\": 1680997948,\n",
      "      \"filename\": \"../resources/extracted/data_prepared_train.jsonl\",\n",
      "      \"id\": \"file-2Q9hCBUXH8X8yGBI1mY81FF4\",\n",
      "      \"object\": \"file\",\n",
      "      \"purpose\": \"fine-tune\",\n",
      "      \"status\": \"processed\",\n",
      "      \"status_details\": null\n",
      "    }\n",
      "  ],\n",
      "  \"updated_at\": 1680997965,\n",
      "  \"validation_files\": [\n",
      "    {\n",
      "      \"bytes\": 24036,\n",
      "      \"created_at\": 1680997949,\n",
      "      \"filename\": \"../resources/extracted/data_prepared_valid.jsonl\",\n",
      "      \"id\": \"file-syfkWz0N2d62gOCnmBDHBVgh\",\n",
      "      \"object\": \"file\",\n",
      "      \"purpose\": \"fine-tune\",\n",
      "      \"status\": \"processed\",\n",
      "      \"status_details\": null\n",
      "    }\n",
      "  ]\n",
      "}\n"
     ]
    }
   ],
   "source": [
    "!openai -k '' api fine_tunes.get -i ft-Aq8lvY4xZOCKW1jGZ4yTJo6t"
   ],
   "metadata": {
    "collapsed": false,
    "pycharm": {
     "name": "#%%\n"
    }
   }
  },
  {
   "cell_type": "code",
   "execution_count": 56,
   "outputs": [],
   "source": [
    "!openai -k '' api fine_tunes.results -i ft-R3d2Ka55mj8eVcov3nbkx0iG > \"../resources/extracted/result-babbage.csv\""
   ],
   "metadata": {
    "collapsed": false,
    "pycharm": {
     "name": "#%%\n"
    }
   }
  },
  {
   "cell_type": "code",
   "execution_count": 57,
   "outputs": [
    {
     "data": {
      "text/plain": "      step  elapsed_tokens  elapsed_examples  training_loss  \\\n3138  3139          127563              3139         0.0048   \n\n      training_sequence_accuracy  training_token_accuracy  validation_loss  \\\n3138                         1.0                      1.0              NaN   \n\n      validation_sequence_accuracy  validation_token_accuracy  \\\n3138                           NaN                        NaN   \n\n      classification/accuracy  classification/weighted_f1_score  \n3138                 0.923858                          0.921363  ",
      "text/html": "<div>\n<style scoped>\n    .dataframe tbody tr th:only-of-type {\n        vertical-align: middle;\n    }\n\n    .dataframe tbody tr th {\n        vertical-align: top;\n    }\n\n    .dataframe thead th {\n        text-align: right;\n    }\n</style>\n<table border=\"1\" class=\"dataframe\">\n  <thead>\n    <tr style=\"text-align: right;\">\n      <th></th>\n      <th>step</th>\n      <th>elapsed_tokens</th>\n      <th>elapsed_examples</th>\n      <th>training_loss</th>\n      <th>training_sequence_accuracy</th>\n      <th>training_token_accuracy</th>\n      <th>validation_loss</th>\n      <th>validation_sequence_accuracy</th>\n      <th>validation_token_accuracy</th>\n      <th>classification/accuracy</th>\n      <th>classification/weighted_f1_score</th>\n    </tr>\n  </thead>\n  <tbody>\n    <tr>\n      <th>3138</th>\n      <td>3139</td>\n      <td>127563</td>\n      <td>3139</td>\n      <td>0.0048</td>\n      <td>1.0</td>\n      <td>1.0</td>\n      <td>NaN</td>\n      <td>NaN</td>\n      <td>NaN</td>\n      <td>0.923858</td>\n      <td>0.921363</td>\n    </tr>\n  </tbody>\n</table>\n</div>"
     },
     "execution_count": 57,
     "metadata": {},
     "output_type": "execute_result"
    }
   ],
   "source": [
    "results = pd.read_csv(\"../resources/extracted/result-babbage.csv\")\n",
    "results[results['classification/accuracy'].notnull()].tail(1)"
   ],
   "metadata": {
    "collapsed": false,
    "pycharm": {
     "name": "#%%\n"
    }
   }
  },
  {
   "cell_type": "code",
   "execution_count": 58,
   "outputs": [
    {
     "data": {
      "text/plain": "<Axes: >"
     },
     "execution_count": 58,
     "metadata": {},
     "output_type": "execute_result"
    },
    {
     "data": {
      "text/plain": "<Figure size 640x480 with 1 Axes>",
      "image/png": "[encoded data removed]"
     },
     "metadata": {},
     "output_type": "display_data"
    }
   ],
   "source": [
    "import matplotlib\n",
    "results[results['classification/accuracy'].notnull()]['classification/accuracy'].plot()"
   ],
   "metadata": {
    "collapsed": false,
    "pycharm": {
     "name": "#%%\n"
    }
   }
  },
  {
   "cell_type": "code",
   "execution_count": 45,
   "outputs": [
    {
     "data": {
      "text/plain": "                                              prompt completion\n0  Добавить встречу с клиентом на завтра в 10:00\\...   calender\n1                         Встреча в 15:00\\n\\n###\\n\\n   calender\n2  Напомнить мне о важной встрече в 12:00\\n\\n###\\n\\n   reminder\n3           Сохранить фотографии в облако\\n\\n###\\n\\n       save\n4  Напомнить мне о медицинской процедуре в 17:00\\...   reminder",
      "text/html": "<div>\n<style scoped>\n    .dataframe tbody tr th:only-of-type {\n        vertical-align: middle;\n    }\n\n    .dataframe tbody tr th {\n        vertical-align: top;\n    }\n\n    .dataframe thead th {\n        text-align: right;\n    }\n</style>\n<table border=\"1\" class=\"dataframe\">\n  <thead>\n    <tr style=\"text-align: right;\">\n      <th></th>\n      <th>prompt</th>\n      <th>completion</th>\n    </tr>\n  </thead>\n  <tbody>\n    <tr>\n      <th>0</th>\n      <td>Добавить встречу с клиентом на завтра в 10:00\\...</td>\n      <td>calender</td>\n    </tr>\n    <tr>\n      <th>1</th>\n      <td>Встреча в 15:00\\n\\n###\\n\\n</td>\n      <td>calender</td>\n    </tr>\n    <tr>\n      <th>2</th>\n      <td>Напомнить мне о важной встрече в 12:00\\n\\n###\\n\\n</td>\n      <td>reminder</td>\n    </tr>\n    <tr>\n      <th>3</th>\n      <td>Сохранить фотографии в облако\\n\\n###\\n\\n</td>\n      <td>save</td>\n    </tr>\n    <tr>\n      <th>4</th>\n      <td>Напомнить мне о медицинской процедуре в 17:00\\...</td>\n      <td>reminder</td>\n    </tr>\n  </tbody>\n</table>\n</div>"
     },
     "execution_count": 45,
     "metadata": {},
     "output_type": "execute_result"
    }
   ],
   "source": [
    "test = pd.read_json('../resources/extracted/data_prepared_valid.jsonl', lines=True)\n",
    "test.head()"
   ],
   "metadata": {
    "collapsed": false,
    "pycharm": {
     "name": "#%%\n"
    }
   }
  },
  {
   "cell_type": "code",
   "execution_count": 61,
   "outputs": [
    {
     "name": "stdout",
     "output_type": "stream",
     "text": [
      "Сколько стоит слетать на луну?\n",
      "{\n",
      "  \" cal\": -9.007598,\n",
      "  \" chat\": -0.0009576029,\n",
      "  \" count\": -9.478199,\n",
      "  \" event\": -10.509976,\n",
      "  \" number\": -8.879754\n",
      "}\n",
      "Сколько стоит слетать на луну?\n",
      "{\n",
      "  \" Chat\": -10.761749,\n",
      "  \" appointment\": -10.186461,\n",
      "  \" chat\": -0.0004576428,\n",
      "  \" chats\": -11.4307,\n",
      "  \" event\": -7.973805\n",
      "}\n",
      "Что такое ChatGPT\n",
      "{\n",
      "  \" Chat\": -10.86589,\n",
      "  \" chat\": -7.9946556e-05,\n",
      "  \" chats\": -12.050728,\n",
      "  \" conversation\": -11.58549,\n",
      "  \" talk\": -10.793866\n",
      "}\n",
      "Что такое ChatGPT\n",
      "{\n",
      "  \" Chat\": -10.497473,\n",
      "  \" chat\": -3.7028603e-05,\n",
      "  \" chats\": -11.928509,\n",
      "  \" chatting\": -14.00056,\n",
      "  \"chat\": -13.885224\n",
      "}\n",
      "Напомни выключить яйца через 10 минут\n",
      "{\n",
      "  \" appointment\": -10.497839,\n",
      "  \" remind\": -9.498304,\n",
      "  \" reminder\": -0.0005627192,\n",
      "  \" reminders\": -8.178525,\n",
      "  \" save\": -10.544412\n",
      "}\n",
      "Напомни выключить яйца через 10 минут\n",
      "{\n",
      "  \" appointment\": -9.10258,\n",
      "  \" chat\": -10.217216,\n",
      "  \" remind\": -9.085461,\n",
      "  \" reminder\": -0.00056760764,\n",
      "  \" reminders\": -8.602856\n",
      "}\n",
      "Что такое напоминание\n",
      "{\n",
      "  \" Chat\": -11.49248,\n",
      "  \" cal\": -10.93913,\n",
      "  \" chat\": -0.00011034852,\n",
      "  \" conversation\": -10.976328,\n",
      "  \" talk\": -10.750352\n",
      "}\n",
      "Что такое напоминание\n",
      "{\n",
      "  \" Chat\": -10.289051,\n",
      "  \" chat\": -0.025314838,\n",
      "  \" conversation\": -9.878758,\n",
      "  \" message\": -10.472557,\n",
      "  \" reminder\": -3.7020535\n",
      "}\n",
      "Сколько напоминаний может быть в жизни\n",
      "{\n",
      "  \" Chat\": -10.392105,\n",
      "  \" cal\": -9.354115,\n",
      "  \" chat\": -0.00046336767,\n",
      "  \" event\": -11.289195,\n",
      "  \" number\": -10.464943\n",
      "}\n",
      "Сколько напоминаний может быть в жизни\n",
      "{\n",
      "  \" Chat\": -9.899774,\n",
      "  \" chat\": -0.0050813467,\n",
      "  \" chats\": -8.38819,\n",
      "  \" conversation\": -9.576715,\n",
      "  \" reminder\": -5.418015\n",
      "}\n",
      "Я скучный?\n",
      "{\n",
      "  \" appointment\": -6.5686836,\n",
      "  \" cal\": -7.711817,\n",
      "  \" chat\": -0.06264311,\n",
      "  \" event\": -4.872469,\n",
      "  \" intention\": -3.1265316\n",
      "}\n",
      "Я скучный?\n",
      "{\n",
      "  \" Chat\": -9.760613,\n",
      "  \" chat\": -0.00046074227,\n",
      "  \" chats\": -10.482947,\n",
      "  \" event\": -10.395887,\n",
      "  \" intention\": -8.43687\n",
      "}\n",
      "Ты тоже\n",
      "{\n",
      "  \" appointment\": -5.307517,\n",
      "  \" chat\": -0.02568543,\n",
      "  \" event\": -6.8571362,\n",
      "  \" intention\": -4.313181,\n",
      "  \" talk\": -7.217281\n",
      "}\n",
      "Ты тоже\n",
      "{\n",
      "  \" chat\": -0.01175849,\n",
      "  \" event\": -7.42815,\n",
      "  \" intention\": -4.768232,\n",
      "  \" reminder\": -7.0805535,\n",
      "  \" save\": -7.630395\n",
      "}\n",
      "Добавь в календарь следующее\n",
      "{\n",
      "  \" Cal\": -8.064758,\n",
      "  \" appointment\": -4.7013197,\n",
      "  \" cal\": -0.07220193,\n",
      "  \" chat\": -2.974451,\n",
      "  \" save\": -7.68772\n",
      "}\n",
      "Добавь в календарь следующее\n",
      "{\n",
      "  \" appointment\": -4.7755766,\n",
      "  \" cal\": -0.034219556,\n",
      "  \" chat\": -4.947915,\n",
      "  \" event\": -5.232307,\n",
      "  \" save\": -5.444177\n",
      "}\n",
      "Сохрани для меня деньги\n",
      "{\n",
      "  \" Save\": -11.19863,\n",
      "  \" save\": -4.763911e-05,\n",
      "  \" saved\": -11.694892,\n",
      "  \" saves\": -11.557297,\n",
      "  \"save\": -11.620236\n",
      "}\n",
      "Сохрани для меня деньги\n",
      "{\n",
      "  \" Save\": -10.25036,\n",
      "  \" save\": -6.396884e-05,\n",
      "  \" saved\": -12.641172,\n",
      "  \" saves\": -11.740709,\n",
      "  \"save\": -11.170816\n",
      "}\n",
      "Сколько стоит замок\n",
      "{\n",
      "  \" Chat\": -10.444899,\n",
      "  \" cal\": -9.735712,\n",
      "  \" chat\": -0.0007096199,\n",
      "  \" count\": -9.742364,\n",
      "  \" number\": -9.364856\n",
      "}\n",
      "Сколько стоит замок\n",
      "{\n",
      "  \" Chat\": -10.790859,\n",
      "  \" chat\": -3.2855354e-05,\n",
      "  \" chats\": -11.692649,\n",
      "  \"###\": -13.843731,\n",
      "  \"chat\": -13.394954\n",
      "}\n",
      "Завтра надо сходить к стоматологу в 10\n",
      "{\n",
      "  \" appointment\": -0.23680967,\n",
      "  \" cal\": -4.6977654,\n",
      "  \" event\": -4.798683,\n",
      "  \" intention\": -4.41686,\n",
      "  \" reminder\": -1.8348454\n",
      "}\n",
      "Завтра надо сходить к стоматологу в 10\n",
      "{\n",
      "  \" appointment\": -0.00070592255,\n",
      "  \" appointments\": -9.893058,\n",
      "  \" event\": -11.262395,\n",
      "  \" intention\": -9.50744,\n",
      "  \" reminder\": -7.564451\n",
      "}\n",
      "Я заберу дочку в 7 утра в пятницу, напомни плиз\n",
      "{\n",
      "  \" appointment\": -7.197915,\n",
      "  \" goal\": -9.644542,\n",
      "  \" intention\": -9.684022,\n",
      "  \" reminder\": -0.0016459792,\n",
      "  \" reminders\": -7.9802675\n",
      "}\n",
      "Я заберу дочку в 7 утра в пятницу, напомни плиз\n",
      "{\n",
      "  \" appointment\": -8.912855,\n",
      "  \" chat\": -9.785724,\n",
      "  \" remind\": -8.838553,\n",
      "  \" reminder\": -0.0005668924,\n",
      "  \" reminders\": -9.093746\n",
      "}\n",
      "Надо снять с плиты сковородку через 20 минут\n",
      "{\n",
      "  \" appointment\": -2.681593,\n",
      "  \" cal\": -3.0825264,\n",
      "  \" chat\": -3.5893068,\n",
      "  \" goal\": -0.30577394,\n",
      "  \" reminder\": -3.3443518\n",
      "}\n",
      "Надо снять с плиты сковородку через 20 минут\n",
      "{\n",
      "  \" appointment\": -4.0579143,\n",
      "  \" goal\": -0.11080983,\n",
      "  \" reminder\": -2.8081002,\n",
      "  \" save\": -3.9870694,\n",
      "  \"###\": -6.203224\n",
      "}\n"
     ]
    }
   ],
   "source": [
    "ft_ada_model = 'ada:ft-personal-2023-04-09-00-21-49'\n",
    "ft_babbage_model = 'babbage:ft-personal-2023-04-09-08-57-14'\n",
    "openai.api_key = ''\n",
    "my_tests = [\n",
    "    'Сколько стоит слетать на луну?',\n",
    "    'Что такое ChatGPT',\n",
    "    'Напомни выключить яйца через 10 минут',\n",
    "    \"Что такое напоминание\",\n",
    "    \"Сколько напоминаний может быть в жизни\",\n",
    "    \"Я скучный?\",\n",
    "    \"Ты тоже\",\n",
    "    \"Добавь в календарь следующее\",\n",
    "    \"Сохрани для меня деньги\",\n",
    "    \"Сколько стоит замок\",\n",
    "    \"Завтра надо сходить к стоматологу в 10\",\n",
    "    \"Я заберу дочку в 7 утра в пятницу, напомни плиз\",\n",
    "    \"Надо снять с плиты сковородку через 20 минут\",\n",
    "]\n",
    "\n",
    "for i in range(len(my_tests)):\n",
    "    res = openai.Completion.create(model=ft_ada_model, prompt=my_tests[i] + '\\n\\n###\\n\\n', max_tokens=2, temperature=0, logprobs=8)\n",
    "    print(my_tests[i])\n",
    "    print(res['choices'][0]['logprobs']['top_logprobs'][0])\n",
    "    res = openai.Completion.create(model=ft_babbage_model, prompt=my_tests[i] + '\\n\\n###\\n\\n', max_tokens=2, temperature=0, logprobs=8)\n",
    "    print(my_tests[i])\n",
    "    print(res['choices'][0]['logprobs']['top_logprobs'][0])"
   ],
   "metadata": {
    "collapsed": false,
    "pycharm": {
     "name": "#%%\n"
    }
   }
  },
  {
   "cell_type": "code",
   "execution_count": null,
   "outputs": [],
   "source": [],
   "metadata": {
    "collapsed": false,
    "pycharm": {
     "name": "#%%\n"
    }
   }
  }
 ],
 "metadata": {
  "kernelspec": {
   "display_name": "Python 3",
   "language": "python",
   "name": "python3"
  },
  "language_info": {
   "codemirror_mode": {
    "name": "ipython",
    "version": 2
   },
   "file_extension": ".py",
   "mimetype": "text/x-python",
   "name": "python",
   "nbconvert_exporter": "python",
   "pygments_lexer": "ipython2",
   "version": "2.7.6"
  }
 },
 "nbformat": 4,
 "nbformat_minor": 0
}